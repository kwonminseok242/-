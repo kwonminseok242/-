{
 "cells": [
  {
   "cell_type": "code",
   "execution_count": null,
   "id": "189cff09",
   "metadata": {},
   "outputs": [],
   "source": [
    "import pandas as pd\n",
    "\n",
    "# CSV 파일 불러오기 (data 폴더 안의 T_f_t_d.csv)\n",
    "df = pd.read_csv(\"data/T_f_t_d.csv\")\n",
    "\n",
    "# TIMESTAMP 열을 datetime 형식으로 변환\n",
    "df[\"TIMESTAMP\"] = pd.to_datetime(df[\"TIMESTAMP\"])\n",
    "\n",
    "# 시간 차이 계산 (초 단위)\n",
    "df[\"TIME_DIFF_SEC\"] = df[\"TIMESTAMP\"].diff().dt.total_seconds()\n",
    "\n",
    "# 첫 번째 행은 1로 고정\n",
    "df.loc[0, \"TIME_DIFF_SEC\"] = 1\n",
    "\n",
    "# 결과 확인\n",
    "print(df[[\"TIMESTAMP\", \"TIME_DIFF_SEC\"]].head())\n",
    "\n",
    "#필요한 경우, 전처리된 데이터 다시 저장 가능\n",
    "df.to_csv(\"data/T_f_t_d_s.csv\", index=False)\n"
   ]
  }
 ],
 "metadata": {
  "language_info": {
   "name": "python"
  }
 },
 "nbformat": 4,
 "nbformat_minor": 5
}
